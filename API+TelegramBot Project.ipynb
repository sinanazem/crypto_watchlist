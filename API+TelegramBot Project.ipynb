{
 "cells": [
  {
   "cell_type": "code",
   "execution_count": 85,
   "id": "1040c792",
   "metadata": {},
   "outputs": [],
   "source": [
    "import requests\n",
    "from bs4 import BeautifulSoup\n",
    "import numpy as np \n",
    "import pandas as pd\n",
    "import matplotlib.pyplot as plt\n",
    "import seaborn as sns\n",
    "import plotly\n",
    "import datetime as dt\n",
    "import json"
   ]
  },
  {
   "cell_type": "code",
   "execution_count": 96,
   "id": "57d9ce3c",
   "metadata": {},
   "outputs": [],
   "source": [
    "class Crypto:\n",
    "    \n",
    "    def __init__(self,name):\n",
    "        self.name = name\n",
    "        api = 'https://api.coinmarketcap.com/data-api/v3/cryptocurrency/listing?start=1&limit=3&sortBy=market_cap&sortType=desc&convert=USD&cryptoType=all&tagType=all&audited=false'\n",
    "        \n",
    "        self.response = requests.get(api)\n",
    "        self.data= self.response.json()\n",
    "        \n",
    "    def price(self):\n",
    "        \n",
    "        if self.name in ['Bitcoin','bitcoin','btc','BTC','Btc']:\n",
    "            price_ = self.data['data']['cryptoCurrencyList'][0]['quotes'][0]['price']\n",
    "            time_ = self.data['data']['cryptoCurrencyList'][0]['quotes'][0]['lastUpdated']\n",
    "            return f'lastUpdated:{time_}\\nPrice: {price_}'\n",
    "        \n",
    "        elif self.name in ['Ethereum','ethereum','eth','Eth','ETH']:\n",
    "            price_ = self.data['data']['cryptoCurrencyList'][1]['quotes'][0]['price']\n",
    "            time_ = self.data['data']['cryptoCurrencyList'][1]['quotes'][0]['lastUpdated']\n",
    "            return f'lastUpdated:{time_}\\nPrice: {price_}'\n",
    "            \n",
    "        "
   ]
  },
  {
   "cell_type": "code",
   "execution_count": 97,
   "id": "5532de51",
   "metadata": {},
   "outputs": [
    {
     "name": "stderr",
     "output_type": "stream",
     "text": [
      "2022-01-14 17:28:41.872 | INFO     | __main__:run:40 - Start bot\n",
      "2022-01-14 17:28:50.459 | INFO     | __main__:send_welcome:17 - somebody starts bot\n",
      "2022-01-14 17:28:57.795 | INFO     | __main__:bitcoin:23 - bitcoin...\n",
      "2022-01-14 17:29:31.231 | INFO     | __main__:ethereum:30 - ethereum...\n",
      "2022-01-14 17:33:15,719 (__init__.py:627 MainThread) ERROR - TeleBot: \"Infinity polling: polling exited\"\n",
      "2022-01-14 17:33:15,719 (__init__.py:629 MainThread) ERROR - TeleBot: \"Break infinity polling\"\n",
      "2022-01-14 17:33:15.720 | INFO     | __main__:run:42 - Done\n"
     ]
    }
   ],
   "source": [
    "import telebot\n",
    "import os\n",
    "from loguru import logger\n",
    "\n",
    "\n",
    "class Bot:\n",
    "\n",
    "    def __init__(self):\n",
    "        self.bot = telebot.TeleBot(os.environ['TELEGRAM_TOKEN'])\n",
    "        self.send_welcome=self.bot.message_handler(commands=['start', 'help'])(self.send_welcome)\n",
    "        self.bitcoin=self.bot.message_handler(commands=['Bitcoin','bitcoin','btc','BTC','Btc'])(self.bitcoin)\n",
    "        self.ethereum=self.bot.message_handler(commands=['Ethereum','ethereum','eth','Eth','ETH'])(self.ethereum)\n",
    "\n",
    "\n",
    "    def send_welcome(self,message):\n",
    "        self.bot.reply_to(message, \"Howdy, how are you doing?\")\n",
    "        logger.info('somebody starts bot')\n",
    "\n",
    "    def bitcoin(self,message):\n",
    "        btc = Crypto('btc')\n",
    "\n",
    "        self.bot.reply_to(message, str(btc.price()))\n",
    "        logger.info('bitcoin...')\n",
    "\n",
    "    def ethereum(self,message):\n",
    "        eth = Crypto('ethereum')\n",
    "\n",
    "        self.bot.reply_to(message, str(eth.price()))\n",
    "        logger.info('ethereum...')\n",
    "\n",
    "    def echo_all(self,message):\n",
    "        self.bot.reply_to(message, (message.text))\n",
    "\n",
    "\n",
    "    def run(self):\n",
    "        logger.info('Start bot')\n",
    "        self.bot.infinity_polling()\n",
    "        logger.info('Done')\n",
    "\n",
    "if __name__ == \"__main__\":\n",
    "    mybot=Bot()\n",
    "    mybot.run()"
   ]
  },
  {
   "cell_type": "code",
   "execution_count": null,
   "id": "67e29334",
   "metadata": {},
   "outputs": [],
   "source": []
  },
  {
   "cell_type": "code",
   "execution_count": null,
   "id": "180f9727",
   "metadata": {},
   "outputs": [],
   "source": []
  }
 ],
 "metadata": {
  "kernelspec": {
   "display_name": "Python 3 (ipykernel)",
   "language": "python",
   "name": "python3"
  },
  "language_info": {
   "codemirror_mode": {
    "name": "ipython",
    "version": 3
   },
   "file_extension": ".py",
   "mimetype": "text/x-python",
   "name": "python",
   "nbconvert_exporter": "python",
   "pygments_lexer": "ipython3",
   "version": "3.9.7"
  }
 },
 "nbformat": 4,
 "nbformat_minor": 5
}
