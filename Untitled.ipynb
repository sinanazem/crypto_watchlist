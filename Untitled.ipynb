{
 "cells": [
  {
   "cell_type": "code",
   "execution_count": 1,
   "id": "d5145c90",
   "metadata": {},
   "outputs": [],
   "source": [
    "import requests\n",
    "from bs4 import BeautifulSoup\n",
    "import numpy as np \n",
    "import pandas as pd\n",
    "import matplotlib.pyplot as plt\n",
    "import seaborn as sns\n",
    "import plotly\n",
    "import datetime as dt"
   ]
  },
  {
   "cell_type": "code",
   "execution_count": null,
   "id": "8f6c31b1",
   "metadata": {},
   "outputs": [],
   "source": []
  },
  {
   "cell_type": "code",
   "execution_count": 45,
   "id": "915ed25a",
   "metadata": {},
   "outputs": [],
   "source": [
    "#API\n",
    "api = 'https://api.coinmarketcap.com/data-api/v3/cryptocurrency/listing?start=1&limit=3&sortBy=market_cap&sortType=desc&convert=USD&cryptoType=all&tagType=all&audited=false'\n",
    "r = requests.get(api)\n",
    "jsondata= r.json()\n",
    "name =[]\n",
    "for item in jsondata['data']['cryptoCurrencyList']:\n",
    "    name.append(item['name'])\n",
    "coin= [x.replace(\" \" , \"-\") for x in name]\n",
    "coin = [x[:x.index('.')] if '.' in x else x for x in coin]\n",
    "#coin as column of dataframe\n",
    "df = pd.DataFrame(columns = coin)\n",
    "\n"
   ]
  },
  {
   "cell_type": "code",
   "execution_count": 46,
   "id": "b5249ebf",
   "metadata": {},
   "outputs": [],
   "source": [
    "def func ():\n",
    "    time= dt.datetime.now()\n",
    "    for i in coin:\n",
    "        url = requests.get(f'https://coinmarketcap.com/currencies/{i}').text\n",
    "        soup = BeautifulSoup(url , 'lxml')\n",
    "        tag = soup.find('div', class_='sc-16r8icm-0 bILTHz')\n",
    "        block = tag.find_all('div' , class_ = 'namePill')\n",
    "        wl = block[-1].text.split()[1].replace(',','')\n",
    "        wl = int(wl)\n",
    "        df.loc[time , i]= wl\n",
    "        \n",
    "n = 0        \n",
    "while n<3 :\n",
    "    func()\n",
    "    time.sleep(10)\n",
    "    n+=1"
   ]
  },
  {
   "cell_type": "code",
   "execution_count": 47,
   "id": "f3a3af5a",
   "metadata": {},
   "outputs": [
    {
     "data": {
      "text/html": [
       "<div>\n",
       "<style scoped>\n",
       "    .dataframe tbody tr th:only-of-type {\n",
       "        vertical-align: middle;\n",
       "    }\n",
       "\n",
       "    .dataframe tbody tr th {\n",
       "        vertical-align: top;\n",
       "    }\n",
       "\n",
       "    .dataframe thead th {\n",
       "        text-align: right;\n",
       "    }\n",
       "</style>\n",
       "<table border=\"1\" class=\"dataframe\">\n",
       "  <thead>\n",
       "    <tr style=\"text-align: right;\">\n",
       "      <th></th>\n",
       "      <th>Bitcoin</th>\n",
       "      <th>Ethereum</th>\n",
       "      <th>BNB</th>\n",
       "    </tr>\n",
       "  </thead>\n",
       "  <tbody>\n",
       "    <tr>\n",
       "      <th>2022-01-13 22:05:52.541328</th>\n",
       "      <td>2416724</td>\n",
       "      <td>2318064</td>\n",
       "      <td>1453828</td>\n",
       "    </tr>\n",
       "    <tr>\n",
       "      <th>2022-01-13 22:06:09.284355</th>\n",
       "      <td>2416724</td>\n",
       "      <td>2318064</td>\n",
       "      <td>1453828</td>\n",
       "    </tr>\n",
       "    <tr>\n",
       "      <th>2022-01-13 22:06:23.853970</th>\n",
       "      <td>2416724</td>\n",
       "      <td>2318064</td>\n",
       "      <td>1453828</td>\n",
       "    </tr>\n",
       "  </tbody>\n",
       "</table>\n",
       "</div>"
      ],
      "text/plain": [
       "                            Bitcoin Ethereum      BNB\n",
       "2022-01-13 22:05:52.541328  2416724  2318064  1453828\n",
       "2022-01-13 22:06:09.284355  2416724  2318064  1453828\n",
       "2022-01-13 22:06:23.853970  2416724  2318064  1453828"
      ]
     },
     "execution_count": 47,
     "metadata": {},
     "output_type": "execute_result"
    }
   ],
   "source": [
    "df"
   ]
  },
  {
   "cell_type": "code",
   "execution_count": 48,
   "id": "f6a7673f",
   "metadata": {},
   "outputs": [
    {
     "data": {
      "text/html": [
       "<div>\n",
       "<style scoped>\n",
       "    .dataframe tbody tr th:only-of-type {\n",
       "        vertical-align: middle;\n",
       "    }\n",
       "\n",
       "    .dataframe tbody tr th {\n",
       "        vertical-align: top;\n",
       "    }\n",
       "\n",
       "    .dataframe thead th {\n",
       "        text-align: right;\n",
       "    }\n",
       "</style>\n",
       "<table border=\"1\" class=\"dataframe\">\n",
       "  <thead>\n",
       "    <tr style=\"text-align: right;\">\n",
       "      <th></th>\n",
       "      <th>index</th>\n",
       "      <th>Bitcoin</th>\n",
       "      <th>Ethereum</th>\n",
       "      <th>BNB</th>\n",
       "    </tr>\n",
       "  </thead>\n",
       "  <tbody>\n",
       "    <tr>\n",
       "      <th>0</th>\n",
       "      <td>2022-01-13 22:05:52.541328</td>\n",
       "      <td>2416724</td>\n",
       "      <td>2318064</td>\n",
       "      <td>1453828</td>\n",
       "    </tr>\n",
       "    <tr>\n",
       "      <th>1</th>\n",
       "      <td>2022-01-13 22:06:09.284355</td>\n",
       "      <td>2416724</td>\n",
       "      <td>2318064</td>\n",
       "      <td>1453828</td>\n",
       "    </tr>\n",
       "    <tr>\n",
       "      <th>2</th>\n",
       "      <td>2022-01-13 22:06:23.853970</td>\n",
       "      <td>2416724</td>\n",
       "      <td>2318064</td>\n",
       "      <td>1453828</td>\n",
       "    </tr>\n",
       "  </tbody>\n",
       "</table>\n",
       "</div>"
      ],
      "text/plain": [
       "                       index  Bitcoin Ethereum      BNB\n",
       "0 2022-01-13 22:05:52.541328  2416724  2318064  1453828\n",
       "1 2022-01-13 22:06:09.284355  2416724  2318064  1453828\n",
       "2 2022-01-13 22:06:23.853970  2416724  2318064  1453828"
      ]
     },
     "execution_count": 48,
     "metadata": {},
     "output_type": "execute_result"
    }
   ],
   "source": [
    "df.reset_index()"
   ]
  },
  {
   "cell_type": "code",
   "execution_count": 50,
   "id": "39b00701",
   "metadata": {
    "scrolled": true
   },
   "outputs": [
    {
     "data": {
      "text/plain": [
       "DatetimeIndex(['2022-01-13 22:05:52.541328', '2022-01-13 22:06:09.284355',\n",
       "               '2022-01-13 22:06:23.853970'],\n",
       "              dtype='datetime64[ns]', freq=None)"
      ]
     },
     "execution_count": 50,
     "metadata": {},
     "output_type": "execute_result"
    }
   ],
   "source": [
    "df.index"
   ]
  },
  {
   "cell_type": "code",
   "execution_count": 36,
   "id": "c64ad440",
   "metadata": {},
   "outputs": [],
   "source": [
    "df.to_csv('my_csv.csv', mode='a', header=False)"
   ]
  },
  {
   "cell_type": "code",
   "execution_count": 37,
   "id": "8f641d4e",
   "metadata": {},
   "outputs": [],
   "source": [
    "df_data_min = pd.read_csv('my_csv.csv')"
   ]
  },
  {
   "cell_type": "code",
   "execution_count": 38,
   "id": "ffb48ad9",
   "metadata": {},
   "outputs": [
    {
     "data": {
      "text/html": [
       "<div>\n",
       "<style scoped>\n",
       "    .dataframe tbody tr th:only-of-type {\n",
       "        vertical-align: middle;\n",
       "    }\n",
       "\n",
       "    .dataframe tbody tr th {\n",
       "        vertical-align: top;\n",
       "    }\n",
       "\n",
       "    .dataframe thead th {\n",
       "        text-align: right;\n",
       "    }\n",
       "</style>\n",
       "<table border=\"1\" class=\"dataframe\">\n",
       "  <thead>\n",
       "    <tr style=\"text-align: right;\">\n",
       "      <th></th>\n",
       "      <th>Unnamed: 0</th>\n",
       "      <th>Bitcoin</th>\n",
       "      <th>Ethereum</th>\n",
       "      <th>BNB</th>\n",
       "    </tr>\n",
       "  </thead>\n",
       "  <tbody>\n",
       "    <tr>\n",
       "      <th>0</th>\n",
       "      <td>2022-01-13 21:56:40.304833</td>\n",
       "      <td>2416647</td>\n",
       "      <td>NaN</td>\n",
       "      <td>NaN</td>\n",
       "    </tr>\n",
       "    <tr>\n",
       "      <th>1</th>\n",
       "      <td>2022-01-13 21:56:52.119098</td>\n",
       "      <td>2416647</td>\n",
       "      <td>NaN</td>\n",
       "      <td>NaN</td>\n",
       "    </tr>\n",
       "    <tr>\n",
       "      <th>2</th>\n",
       "      <td>2022-01-13 21:57:03.987800</td>\n",
       "      <td>2416647</td>\n",
       "      <td>NaN</td>\n",
       "      <td>NaN</td>\n",
       "    </tr>\n",
       "    <tr>\n",
       "      <th>3</th>\n",
       "      <td>2022-01-13 21:56:40.304833</td>\n",
       "      <td>2416647</td>\n",
       "      <td>NaN</td>\n",
       "      <td>NaN</td>\n",
       "    </tr>\n",
       "    <tr>\n",
       "      <th>4</th>\n",
       "      <td>2022-01-13 21:56:52.119098</td>\n",
       "      <td>2416647</td>\n",
       "      <td>NaN</td>\n",
       "      <td>NaN</td>\n",
       "    </tr>\n",
       "    <tr>\n",
       "      <th>5</th>\n",
       "      <td>2022-01-13 21:57:03.987800</td>\n",
       "      <td>2416647</td>\n",
       "      <td>NaN</td>\n",
       "      <td>NaN</td>\n",
       "    </tr>\n",
       "  </tbody>\n",
       "</table>\n",
       "</div>"
      ],
      "text/plain": [
       "                   Unnamed: 0  Bitcoin  Ethereum  BNB\n",
       "0  2022-01-13 21:56:40.304833  2416647       NaN  NaN\n",
       "1  2022-01-13 21:56:52.119098  2416647       NaN  NaN\n",
       "2  2022-01-13 21:57:03.987800  2416647       NaN  NaN\n",
       "3  2022-01-13 21:56:40.304833  2416647       NaN  NaN\n",
       "4  2022-01-13 21:56:52.119098  2416647       NaN  NaN\n",
       "5  2022-01-13 21:57:03.987800  2416647       NaN  NaN"
      ]
     },
     "execution_count": 38,
     "metadata": {},
     "output_type": "execute_result"
    }
   ],
   "source": [
    "df_data_min"
   ]
  },
  {
   "cell_type": "code",
   "execution_count": 39,
   "id": "f89626fd",
   "metadata": {},
   "outputs": [
    {
     "data": {
      "text/html": [
       "<div>\n",
       "<style scoped>\n",
       "    .dataframe tbody tr th:only-of-type {\n",
       "        vertical-align: middle;\n",
       "    }\n",
       "\n",
       "    .dataframe tbody tr th {\n",
       "        vertical-align: top;\n",
       "    }\n",
       "\n",
       "    .dataframe thead th {\n",
       "        text-align: right;\n",
       "    }\n",
       "</style>\n",
       "<table border=\"1\" class=\"dataframe\">\n",
       "  <thead>\n",
       "    <tr style=\"text-align: right;\">\n",
       "      <th></th>\n",
       "      <th>Bitcoin</th>\n",
       "      <th>Ethereum</th>\n",
       "      <th>BNB</th>\n",
       "    </tr>\n",
       "  </thead>\n",
       "  <tbody>\n",
       "    <tr>\n",
       "      <th>2022-01-13 21:56:40.304833</th>\n",
       "      <td>2416647</td>\n",
       "      <td>NaN</td>\n",
       "      <td>NaN</td>\n",
       "    </tr>\n",
       "    <tr>\n",
       "      <th>2022-01-13 21:56:52.119098</th>\n",
       "      <td>2416647</td>\n",
       "      <td>NaN</td>\n",
       "      <td>NaN</td>\n",
       "    </tr>\n",
       "    <tr>\n",
       "      <th>2022-01-13 21:57:03.987800</th>\n",
       "      <td>2416647</td>\n",
       "      <td>NaN</td>\n",
       "      <td>NaN</td>\n",
       "    </tr>\n",
       "  </tbody>\n",
       "</table>\n",
       "</div>"
      ],
      "text/plain": [
       "                            Bitcoin Ethereum  BNB\n",
       "2022-01-13 21:56:40.304833  2416647      NaN  NaN\n",
       "2022-01-13 21:56:52.119098  2416647      NaN  NaN\n",
       "2022-01-13 21:57:03.987800  2416647      NaN  NaN"
      ]
     },
     "execution_count": 39,
     "metadata": {},
     "output_type": "execute_result"
    }
   ],
   "source": [
    "df"
   ]
  },
  {
   "cell_type": "code",
   "execution_count": null,
   "id": "7240d075",
   "metadata": {},
   "outputs": [],
   "source": [
    "class Crypto:\n",
    "    #initialize class\n",
    "    def __init__():\n",
    "        api = 'https://api.coinmarketcap.com/ \\\n",
    "        data-api/v3/cryptocurrency/listing?start=1&limit=3& \\\n",
    "        sortBy=market_cap&sortType=desc&convert=USD& \\\n",
    "        cryptoType=all&tagType=all&audited=false'\n",
    "        r = requests.get(api)\n",
    "        data= r.json()\n",
    "        name =[]\n",
    "        for item in jsondata['data']['cryptoCurrencyList']:\n",
    "            name.append(item['name'])\n",
    "        coin= [x.replace(\" \" , \"-\") for x in name]\n",
    "        coin = [x[:x.index('.')] if '.' in x else x for x in coin]\n",
    "        #coin as column of dataframe\n",
    "        df = pd.DataFrame(columns = coin)\n",
    "        \n",
    "        \n",
    "    \n",
    "    def save_data(self):\n",
    "        pass"
   ]
  }
 ],
 "metadata": {
  "kernelspec": {
   "display_name": "Python 3 (ipykernel)",
   "language": "python",
   "name": "python3"
  },
  "language_info": {
   "codemirror_mode": {
    "name": "ipython",
    "version": 3
   },
   "file_extension": ".py",
   "mimetype": "text/x-python",
   "name": "python",
   "nbconvert_exporter": "python",
   "pygments_lexer": "ipython3",
   "version": "3.9.7"
  }
 },
 "nbformat": 4,
 "nbformat_minor": 5
}
